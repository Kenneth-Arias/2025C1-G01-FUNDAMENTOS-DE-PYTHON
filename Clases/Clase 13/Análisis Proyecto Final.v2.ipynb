{
    "cells": [
        {
            "attachments": {},
            "cell_type": "markdown",
            "metadata": {
                "azdata_cell_guid": "43094d38-2acc-463a-bdf3-97ba90623fe5",
                "id": "a62202dd"
            },
            "source": [
                "# 📊 Caso de análisis: Emisiones de dióxido de carbono por país (1975-2017)\n",
                "## 🧠 Objetivo:\n",
                "Los estudiantes deben analizar la evolución de las emisiones de CO₂ en varios países desde 1975 hasta 2017, distinguiendo entre:\n",
                "\n",
                "- Emisiones totales: Miden la cantidad total de CO₂ emitido en un país.\n",
                "\n",
                "- Emisiones per cápita: Indican cuántas toneladas métricas de CO₂ emite, en promedio, una persona en ese país."
            ]
        },
        {
            "attachments": {},
            "cell_type": "markdown",
            "metadata": {
                "azdata_cell_guid": "aaf7af2f-c9dd-4e9e-9de1-6543ad2e0064"
            },
            "source": [
                "## <mark>Estudiante: \\> Kenneth Arias Solís</mark>"
            ]
        },
        {
            "cell_type": "markdown",
            "metadata": {
                "azdata_cell_guid": "5d6834bd-ea61-4f0a-b586-a118753e31a9",
                "id": "e21e6b1c"
            },
            "source": [
                "## Contexto\n"
            ]
        },
        {
            "cell_type": "markdown",
            "metadata": {
                "azdata_cell_guid": "5b449223-cfd9-4324-8796-a7688878110c",
                "id": "c4c7df65"
            },
            "source": [
                "🌍 Análisis de Emisiones de CO₂ – Caso Práctico\n",
                "📁 Archivo: Carbon_Dioxide_Emission_Estimates.csv\n",
                "Contiene datos de emisiones de dióxido de carbono (CO₂) de varios países entre 1975 y 2017.\n",
                "\n",
                "🧾 Estructura de los datos\n",
                "- Country: País\n",
                "\n",
                "- Year: Año\n",
                "\n",
                "- Type: Tipo de emisión:\n",
                "\n",
                "    * Emisiones totales (kilotoneladas métricas)\n",
                "\n",
                "    * Emisiones per cápita (toneladas métricas por persona)\n",
                "\n",
                "- Value: Valor numérico de la emisión\n",
                "\n",
                "🔍 Tipos de emisiones\n",
                "- Totales: CO₂ emitido por todo el país (kt)\n",
                "\n",
                "- Per cápita: CO₂ promedio por persona (t CO₂/persona)\n",
                "\n",
                "    - Se calcula dividiendo emisiones totales por la población"
            ]
        },
        {
            "cell_type": "code",
            "execution_count": 3,
            "metadata": {},
            "outputs": [
                {
                    "data": {
                        "application/vnd.microsoft.datawrangler.viewer.v0+json": {
                            "columns": [
                                {
                                    "name": "index",
                                    "rawType": "int64",
                                    "type": "integer"
                                },
                                {
                                    "name": "Country",
                                    "rawType": "object",
                                    "type": "string"
                                },
                                {
                                    "name": "Year",
                                    "rawType": "int64",
                                    "type": "integer"
                                },
                                {
                                    "name": "Type",
                                    "rawType": "object",
                                    "type": "string"
                                },
                                {
                                    "name": "Value",
                                    "rawType": "float64",
                                    "type": "float"
                                }
                            ],
                            "conversionMethod": "pd.DataFrame",
                            "ref": "556d1688-c438-45c6-acd0-96b6fbe549c9",
                            "rows": [
                                [
                                    "0",
                                    "Albania",
                                    "1975",
                                    "Emisiones (kilotoneladas métricas de dióxido de carbono)",
                                    "4338.334"
                                ],
                                [
                                    "1",
                                    "Albania",
                                    "1985",
                                    "Emisiones (kilotoneladas métricas de dióxido de carbono)",
                                    "6929.926"
                                ],
                                [
                                    "2",
                                    "Albania",
                                    "1995",
                                    "Emisiones (kilotoneladas métricas de dióxido de carbono)",
                                    "1848.549"
                                ],
                                [
                                    "3",
                                    "Albania",
                                    "2005",
                                    "Emisiones (kilotoneladas métricas de dióxido de carbono)",
                                    "3825.184"
                                ],
                                [
                                    "4",
                                    "Albania",
                                    "2010",
                                    "Emisiones (kilotoneladas métricas de dióxido de carbono)",
                                    "3930.295"
                                ],
                                [
                                    "5",
                                    "Albania",
                                    "2015",
                                    "Emisiones (kilotoneladas métricas de dióxido de carbono)",
                                    "3824.801"
                                ],
                                [
                                    "6",
                                    "Albania",
                                    "2016",
                                    "Emisiones (kilotoneladas métricas de dióxido de carbono)",
                                    "3674.183"
                                ],
                                [
                                    "7",
                                    "Albania",
                                    "2017",
                                    "Emisiones (kilotoneladas métricas de dióxido de carbono)",
                                    "4342.011"
                                ],
                                [
                                    "8",
                                    "Albania",
                                    "1975",
                                    "Emisiones per capita (toneladas métricas de dióxido de carbono)",
                                    "1.804"
                                ],
                                [
                                    "9",
                                    "Albania",
                                    "1985",
                                    "Emisiones per capita (toneladas métricas de dióxido de carbono)",
                                    "2.337"
                                ],
                                [
                                    "10",
                                    "Albania",
                                    "1995",
                                    "Emisiones per capita (toneladas métricas de dióxido de carbono)",
                                    "0.58"
                                ],
                                [
                                    "11",
                                    "Albania",
                                    "2005",
                                    "Emisiones per capita (toneladas métricas de dióxido de carbono)",
                                    "1.27"
                                ],
                                [
                                    "12",
                                    "Albania",
                                    "2010",
                                    "Emisiones per capita (toneladas métricas de dióxido de carbono)",
                                    "1.349"
                                ],
                                [
                                    "13",
                                    "Albania",
                                    "2015",
                                    "Emisiones per capita (toneladas métricas de dióxido de carbono)",
                                    "1.328"
                                ],
                                [
                                    "14",
                                    "Albania",
                                    "2016",
                                    "Emisiones per capita (toneladas métricas de dióxido de carbono)",
                                    "1.278"
                                ],
                                [
                                    "15",
                                    "Albania",
                                    "2017",
                                    "Emisiones per capita (toneladas métricas de dióxido de carbono)",
                                    "1.511"
                                ],
                                [
                                    "16",
                                    "Algeria",
                                    "1975",
                                    "Emisiones (kilotoneladas métricas de dióxido de carbono)",
                                    "13552.694"
                                ],
                                [
                                    "17",
                                    "Algeria",
                                    "1985",
                                    "Emisiones (kilotoneladas métricas de dióxido de carbono)",
                                    "42073.253"
                                ],
                                [
                                    "18",
                                    "Algeria",
                                    "1995",
                                    "Emisiones (kilotoneladas métricas de dióxido de carbono)",
                                    "55336.862"
                                ],
                                [
                                    "19",
                                    "Algeria",
                                    "2005",
                                    "Emisiones (kilotoneladas métricas de dióxido de carbono)",
                                    "77474.13"
                                ],
                                [
                                    "20",
                                    "Algeria",
                                    "2010",
                                    "Emisiones (kilotoneladas métricas de dióxido de carbono)",
                                    "95535.489"
                                ],
                                [
                                    "21",
                                    "Algeria",
                                    "2015",
                                    "Emisiones (kilotoneladas métricas de dióxido de carbono)",
                                    "130426.655"
                                ],
                                [
                                    "22",
                                    "Algeria",
                                    "2016",
                                    "Emisiones (kilotoneladas métricas de dióxido de carbono)",
                                    "127640.064"
                                ],
                                [
                                    "23",
                                    "Algeria",
                                    "2017",
                                    "Emisiones (kilotoneladas métricas de dióxido de carbono)",
                                    "130493.653"
                                ],
                                [
                                    "24",
                                    "Algeria",
                                    "1975",
                                    "Emisiones per capita (toneladas métricas de dióxido de carbono)",
                                    "0.811"
                                ],
                                [
                                    "25",
                                    "Algeria",
                                    "1985",
                                    "Emisiones per capita (toneladas métricas de dióxido de carbono)",
                                    "1.864"
                                ],
                                [
                                    "26",
                                    "Algeria",
                                    "1995",
                                    "Emisiones per capita (toneladas métricas de dióxido de carbono)",
                                    "1.915"
                                ],
                                [
                                    "27",
                                    "Algeria",
                                    "2005",
                                    "Emisiones per capita (toneladas métricas de dióxido de carbono)",
                                    "2.327"
                                ],
                                [
                                    "28",
                                    "Algeria",
                                    "2010",
                                    "Emisiones per capita (toneladas métricas de dióxido de carbono)",
                                    "2.645"
                                ],
                                [
                                    "29",
                                    "Algeria",
                                    "2015",
                                    "Emisiones per capita (toneladas métricas de dióxido de carbono)",
                                    "3.271"
                                ],
                                [
                                    "30",
                                    "Algeria",
                                    "2016",
                                    "Emisiones per capita (toneladas métricas de dióxido de carbono)",
                                    "3.143"
                                ],
                                [
                                    "31",
                                    "Algeria",
                                    "2017",
                                    "Emisiones per capita (toneladas métricas de dióxido de carbono)",
                                    "3.158"
                                ],
                                [
                                    "32",
                                    "Angola",
                                    "1975",
                                    "Emisiones (kilotoneladas métricas de dióxido de carbono)",
                                    "1955.802"
                                ],
                                [
                                    "33",
                                    "Angola",
                                    "1985",
                                    "Emisiones (kilotoneladas métricas de dióxido de carbono)",
                                    "2817.595"
                                ],
                                [
                                    "34",
                                    "Angola",
                                    "1995",
                                    "Emisiones (kilotoneladas métricas de dióxido de carbono)",
                                    "3913.613"
                                ],
                                [
                                    "35",
                                    "Angola",
                                    "2005",
                                    "Emisiones (kilotoneladas métricas de dióxido de carbono)",
                                    "6146.691"
                                ],
                                [
                                    "36",
                                    "Angola",
                                    "2010",
                                    "Emisiones (kilotoneladas métricas de dióxido de carbono)",
                                    "15151.684"
                                ],
                                [
                                    "37",
                                    "Angola",
                                    "2015",
                                    "Emisiones (kilotoneladas métricas de dióxido de carbono)",
                                    "21532.32"
                                ],
                                [
                                    "38",
                                    "Angola",
                                    "2016",
                                    "Emisiones (kilotoneladas métricas de dióxido de carbono)",
                                    "21458.342"
                                ],
                                [
                                    "39",
                                    "Angola",
                                    "2017",
                                    "Emisiones (kilotoneladas métricas de dióxido de carbono)",
                                    "18021.394"
                                ],
                                [
                                    "40",
                                    "Angola",
                                    "1975",
                                    "Emisiones per capita (toneladas métricas de dióxido de carbono)",
                                    "0.255"
                                ],
                                [
                                    "41",
                                    "Angola",
                                    "1985",
                                    "Emisiones per capita (toneladas métricas de dióxido de carbono)",
                                    "0.266"
                                ],
                                [
                                    "42",
                                    "Angola",
                                    "1995",
                                    "Emisiones per capita (toneladas métricas de dióxido de carbono)",
                                    "0.274"
                                ],
                                [
                                    "43",
                                    "Angola",
                                    "2005",
                                    "Emisiones per capita (toneladas métricas de dióxido de carbono)",
                                    "0.314"
                                ],
                                [
                                    "44",
                                    "Angola",
                                    "2010",
                                    "Emisiones per capita (toneladas métricas de dióxido de carbono)",
                                    "0.648"
                                ],
                                [
                                    "45",
                                    "Angola",
                                    "2015",
                                    "Emisiones per capita (toneladas métricas de dióxido de carbono)",
                                    "0.773"
                                ],
                                [
                                    "46",
                                    "Angola",
                                    "2016",
                                    "Emisiones per capita (toneladas métricas de dióxido de carbono)",
                                    "0.745"
                                ],
                                [
                                    "47",
                                    "Angola",
                                    "2017",
                                    "Emisiones per capita (toneladas métricas de dióxido de carbono)",
                                    "0.605"
                                ],
                                [
                                    "48",
                                    "Argentina",
                                    "1975",
                                    "Emisiones (kilotoneladas métricas de dióxido de carbono)",
                                    "85231.756"
                                ],
                                [
                                    "49",
                                    "Argentina",
                                    "1985",
                                    "Emisiones (kilotoneladas métricas de dióxido de carbono)",
                                    "87779.28"
                                ]
                            ],
                            "shape": {
                                "columns": 4,
                                "rows": 2132
                            }
                        },
                        "text/html": [
                            "<div>\n",
                            "<style scoped>\n",
                            "    .dataframe tbody tr th:only-of-type {\n",
                            "        vertical-align: middle;\n",
                            "    }\n",
                            "\n",
                            "    .dataframe tbody tr th {\n",
                            "        vertical-align: top;\n",
                            "    }\n",
                            "\n",
                            "    .dataframe thead th {\n",
                            "        text-align: right;\n",
                            "    }\n",
                            "</style>\n",
                            "<table border=\"1\" class=\"dataframe\">\n",
                            "  <thead>\n",
                            "    <tr style=\"text-align: right;\">\n",
                            "      <th></th>\n",
                            "      <th>Country</th>\n",
                            "      <th>Year</th>\n",
                            "      <th>Type</th>\n",
                            "      <th>Value</th>\n",
                            "    </tr>\n",
                            "  </thead>\n",
                            "  <tbody>\n",
                            "    <tr>\n",
                            "      <th>0</th>\n",
                            "      <td>Albania</td>\n",
                            "      <td>1975</td>\n",
                            "      <td>Emisiones (kilotoneladas métricas de dióxido d...</td>\n",
                            "      <td>4338.334</td>\n",
                            "    </tr>\n",
                            "    <tr>\n",
                            "      <th>1</th>\n",
                            "      <td>Albania</td>\n",
                            "      <td>1985</td>\n",
                            "      <td>Emisiones (kilotoneladas métricas de dióxido d...</td>\n",
                            "      <td>6929.926</td>\n",
                            "    </tr>\n",
                            "    <tr>\n",
                            "      <th>2</th>\n",
                            "      <td>Albania</td>\n",
                            "      <td>1995</td>\n",
                            "      <td>Emisiones (kilotoneladas métricas de dióxido d...</td>\n",
                            "      <td>1848.549</td>\n",
                            "    </tr>\n",
                            "    <tr>\n",
                            "      <th>3</th>\n",
                            "      <td>Albania</td>\n",
                            "      <td>2005</td>\n",
                            "      <td>Emisiones (kilotoneladas métricas de dióxido d...</td>\n",
                            "      <td>3825.184</td>\n",
                            "    </tr>\n",
                            "    <tr>\n",
                            "      <th>4</th>\n",
                            "      <td>Albania</td>\n",
                            "      <td>2010</td>\n",
                            "      <td>Emisiones (kilotoneladas métricas de dióxido d...</td>\n",
                            "      <td>3930.295</td>\n",
                            "    </tr>\n",
                            "    <tr>\n",
                            "      <th>...</th>\n",
                            "      <td>...</td>\n",
                            "      <td>...</td>\n",
                            "      <td>...</td>\n",
                            "      <td>...</td>\n",
                            "    </tr>\n",
                            "    <tr>\n",
                            "      <th>2127</th>\n",
                            "      <td>Zimbabwe</td>\n",
                            "      <td>2005</td>\n",
                            "      <td>Emisiones per capita (toneladas métricas de di...</td>\n",
                            "      <td>0.794</td>\n",
                            "    </tr>\n",
                            "    <tr>\n",
                            "      <th>2128</th>\n",
                            "      <td>Zimbabwe</td>\n",
                            "      <td>2010</td>\n",
                            "      <td>Emisiones per capita (toneladas métricas de di...</td>\n",
                            "      <td>0.672</td>\n",
                            "    </tr>\n",
                            "    <tr>\n",
                            "      <th>2129</th>\n",
                            "      <td>Zimbabwe</td>\n",
                            "      <td>2015</td>\n",
                            "      <td>Emisiones per capita (toneladas métricas de di...</td>\n",
                            "      <td>0.749</td>\n",
                            "    </tr>\n",
                            "    <tr>\n",
                            "      <th>2130</th>\n",
                            "      <td>Zimbabwe</td>\n",
                            "      <td>2016</td>\n",
                            "      <td>Emisiones per capita (toneladas métricas de di...</td>\n",
                            "      <td>0.642</td>\n",
                            "    </tr>\n",
                            "    <tr>\n",
                            "      <th>2131</th>\n",
                            "      <td>Zimbabwe</td>\n",
                            "      <td>2017</td>\n",
                            "      <td>Emisiones per capita (toneladas métricas de di...</td>\n",
                            "      <td>0.588</td>\n",
                            "    </tr>\n",
                            "  </tbody>\n",
                            "</table>\n",
                            "<p>2132 rows × 4 columns</p>\n",
                            "</div>"
                        ],
                        "text/plain": [
                            "       Country  Year                                               Type  \\\n",
                            "0      Albania  1975  Emisiones (kilotoneladas métricas de dióxido d...   \n",
                            "1      Albania  1985  Emisiones (kilotoneladas métricas de dióxido d...   \n",
                            "2      Albania  1995  Emisiones (kilotoneladas métricas de dióxido d...   \n",
                            "3      Albania  2005  Emisiones (kilotoneladas métricas de dióxido d...   \n",
                            "4      Albania  2010  Emisiones (kilotoneladas métricas de dióxido d...   \n",
                            "...        ...   ...                                                ...   \n",
                            "2127  Zimbabwe  2005  Emisiones per capita (toneladas métricas de di...   \n",
                            "2128  Zimbabwe  2010  Emisiones per capita (toneladas métricas de di...   \n",
                            "2129  Zimbabwe  2015  Emisiones per capita (toneladas métricas de di...   \n",
                            "2130  Zimbabwe  2016  Emisiones per capita (toneladas métricas de di...   \n",
                            "2131  Zimbabwe  2017  Emisiones per capita (toneladas métricas de di...   \n",
                            "\n",
                            "         Value  \n",
                            "0     4338.334  \n",
                            "1     6929.926  \n",
                            "2     1848.549  \n",
                            "3     3825.184  \n",
                            "4     3930.295  \n",
                            "...        ...  \n",
                            "2127     0.794  \n",
                            "2128     0.672  \n",
                            "2129     0.749  \n",
                            "2130     0.642  \n",
                            "2131     0.588  \n",
                            "\n",
                            "[2132 rows x 4 columns]"
                        ]
                    },
                    "execution_count": 3,
                    "metadata": {},
                    "output_type": "execute_result"
                }
            ],
            "source": [
                "#Importa el CSV como un DataFrame\n",
                "import csv\n",
                "import pandas as pd\n",
                "import matplotlib.pyplot as plt\n",
                "\n",
                "ruta_archivo_csv = \"Estimaciones_Emisiones_Dioxido_Carbono.csv\"\n",
                "\n",
                "df = pd.read_csv(ruta_archivo_csv, delimiter=',', encoding='utf-8')\n",
                "\n",
                "df"
            ]
        },
        {
            "cell_type": "markdown",
            "metadata": {
                "azdata_cell_guid": "32151a06-fbc4-4fc0-9810-bdd34abdb6fd",
                "id": "352UFM-aEWCT"
            },
            "source": [
                "# Pregunta 0\n",
                "\n",
                "1. Crear un dataframe con el nombre de variable 'df_emisions_co2' usando únicamente las filas cuya columna 'Type' tiene el valor 'Emisiones totales de CO₂ emitidas por el país'\n",
                "\n",
                "2. Crear un dataframe con el nombre de variable 'df_emisions_co2_per_capita' usando únicamente las filas cuya columna 'Type' tiene el valor 'Emisiones promedio de CO₂ emitidas por habitante'."
            ]
        },
        {
            "cell_type": "code",
            "execution_count": 4,
            "metadata": {},
            "outputs": [
                {
                    "data": {
                        "application/vnd.microsoft.datawrangler.viewer.v0+json": {
                            "columns": [
                                {
                                    "name": "index",
                                    "rawType": "int64",
                                    "type": "integer"
                                },
                                {
                                    "name": "Country",
                                    "rawType": "object",
                                    "type": "string"
                                },
                                {
                                    "name": "Year",
                                    "rawType": "int64",
                                    "type": "integer"
                                },
                                {
                                    "name": "Type",
                                    "rawType": "object",
                                    "type": "string"
                                },
                                {
                                    "name": "Value",
                                    "rawType": "float64",
                                    "type": "float"
                                }
                            ],
                            "conversionMethod": "pd.DataFrame",
                            "ref": "53cf3f57-a680-4009-82d4-1cdd38bd5adb",
                            "rows": [
                                [
                                    "0",
                                    "Albania",
                                    "1975",
                                    "Emisiones (kilotoneladas métricas de dióxido de carbono)",
                                    "4338.334"
                                ],
                                [
                                    "1",
                                    "Albania",
                                    "1985",
                                    "Emisiones (kilotoneladas métricas de dióxido de carbono)",
                                    "6929.926"
                                ],
                                [
                                    "2",
                                    "Albania",
                                    "1995",
                                    "Emisiones (kilotoneladas métricas de dióxido de carbono)",
                                    "1848.549"
                                ],
                                [
                                    "3",
                                    "Albania",
                                    "2005",
                                    "Emisiones (kilotoneladas métricas de dióxido de carbono)",
                                    "3825.184"
                                ],
                                [
                                    "4",
                                    "Albania",
                                    "2010",
                                    "Emisiones (kilotoneladas métricas de dióxido de carbono)",
                                    "3930.295"
                                ],
                                [
                                    "5",
                                    "Albania",
                                    "2015",
                                    "Emisiones (kilotoneladas métricas de dióxido de carbono)",
                                    "3824.801"
                                ],
                                [
                                    "6",
                                    "Albania",
                                    "2016",
                                    "Emisiones (kilotoneladas métricas de dióxido de carbono)",
                                    "3674.183"
                                ],
                                [
                                    "7",
                                    "Albania",
                                    "2017",
                                    "Emisiones (kilotoneladas métricas de dióxido de carbono)",
                                    "4342.011"
                                ],
                                [
                                    "16",
                                    "Algeria",
                                    "1975",
                                    "Emisiones (kilotoneladas métricas de dióxido de carbono)",
                                    "13552.694"
                                ],
                                [
                                    "17",
                                    "Algeria",
                                    "1985",
                                    "Emisiones (kilotoneladas métricas de dióxido de carbono)",
                                    "42073.253"
                                ],
                                [
                                    "18",
                                    "Algeria",
                                    "1995",
                                    "Emisiones (kilotoneladas métricas de dióxido de carbono)",
                                    "55336.862"
                                ],
                                [
                                    "19",
                                    "Algeria",
                                    "2005",
                                    "Emisiones (kilotoneladas métricas de dióxido de carbono)",
                                    "77474.13"
                                ],
                                [
                                    "20",
                                    "Algeria",
                                    "2010",
                                    "Emisiones (kilotoneladas métricas de dióxido de carbono)",
                                    "95535.489"
                                ],
                                [
                                    "21",
                                    "Algeria",
                                    "2015",
                                    "Emisiones (kilotoneladas métricas de dióxido de carbono)",
                                    "130426.655"
                                ],
                                [
                                    "22",
                                    "Algeria",
                                    "2016",
                                    "Emisiones (kilotoneladas métricas de dióxido de carbono)",
                                    "127640.064"
                                ],
                                [
                                    "23",
                                    "Algeria",
                                    "2017",
                                    "Emisiones (kilotoneladas métricas de dióxido de carbono)",
                                    "130493.653"
                                ],
                                [
                                    "32",
                                    "Angola",
                                    "1975",
                                    "Emisiones (kilotoneladas métricas de dióxido de carbono)",
                                    "1955.802"
                                ],
                                [
                                    "33",
                                    "Angola",
                                    "1985",
                                    "Emisiones (kilotoneladas métricas de dióxido de carbono)",
                                    "2817.595"
                                ],
                                [
                                    "34",
                                    "Angola",
                                    "1995",
                                    "Emisiones (kilotoneladas métricas de dióxido de carbono)",
                                    "3913.613"
                                ],
                                [
                                    "35",
                                    "Angola",
                                    "2005",
                                    "Emisiones (kilotoneladas métricas de dióxido de carbono)",
                                    "6146.691"
                                ],
                                [
                                    "36",
                                    "Angola",
                                    "2010",
                                    "Emisiones (kilotoneladas métricas de dióxido de carbono)",
                                    "15151.684"
                                ],
                                [
                                    "37",
                                    "Angola",
                                    "2015",
                                    "Emisiones (kilotoneladas métricas de dióxido de carbono)",
                                    "21532.32"
                                ],
                                [
                                    "38",
                                    "Angola",
                                    "2016",
                                    "Emisiones (kilotoneladas métricas de dióxido de carbono)",
                                    "21458.342"
                                ],
                                [
                                    "39",
                                    "Angola",
                                    "2017",
                                    "Emisiones (kilotoneladas métricas de dióxido de carbono)",
                                    "18021.394"
                                ],
                                [
                                    "48",
                                    "Argentina",
                                    "1975",
                                    "Emisiones (kilotoneladas métricas de dióxido de carbono)",
                                    "85231.756"
                                ],
                                [
                                    "49",
                                    "Argentina",
                                    "1985",
                                    "Emisiones (kilotoneladas métricas de dióxido de carbono)",
                                    "87779.28"
                                ],
                                [
                                    "50",
                                    "Argentina",
                                    "1995",
                                    "Emisiones (kilotoneladas métricas de dióxido de carbono)",
                                    "117327.938"
                                ],
                                [
                                    "51",
                                    "Argentina",
                                    "2005",
                                    "Emisiones (kilotoneladas métricas de dióxido de carbono)",
                                    "149476.04"
                                ],
                                [
                                    "52",
                                    "Argentina",
                                    "2010",
                                    "Emisiones (kilotoneladas métricas de dióxido de carbono)",
                                    "173768.538"
                                ],
                                [
                                    "53",
                                    "Argentina",
                                    "2015",
                                    "Emisiones (kilotoneladas métricas de dióxido de carbono)",
                                    "190384.899"
                                ],
                                [
                                    "54",
                                    "Argentina",
                                    "2016",
                                    "Emisiones (kilotoneladas métricas de dióxido de carbono)",
                                    "190512.04"
                                ],
                                [
                                    "55",
                                    "Argentina",
                                    "2017",
                                    "Emisiones (kilotoneladas métricas de dióxido de carbono)",
                                    "183375.203"
                                ],
                                [
                                    "64",
                                    "Armenia",
                                    "1995",
                                    "Emisiones (kilotoneladas métricas de dióxido de carbono)",
                                    "3368.027"
                                ],
                                [
                                    "65",
                                    "Armenia",
                                    "2005",
                                    "Emisiones (kilotoneladas métricas de dióxido de carbono)",
                                    "4129.845"
                                ],
                                [
                                    "66",
                                    "Armenia",
                                    "2010",
                                    "Emisiones (kilotoneladas métricas de dióxido de carbono)",
                                    "4048.253"
                                ],
                                [
                                    "67",
                                    "Armenia",
                                    "2015",
                                    "Emisiones (kilotoneladas métricas de dióxido de carbono)",
                                    "4702.13"
                                ],
                                [
                                    "68",
                                    "Armenia",
                                    "2016",
                                    "Emisiones (kilotoneladas métricas de dióxido de carbono)",
                                    "4833.071"
                                ],
                                [
                                    "69",
                                    "Armenia",
                                    "2017",
                                    "Emisiones (kilotoneladas métricas de dióxido de carbono)",
                                    "5165.593"
                                ],
                                [
                                    "76",
                                    "Australia",
                                    "1975",
                                    "Emisiones (kilotoneladas métricas de dióxido de carbono)",
                                    "179467.397"
                                ],
                                [
                                    "77",
                                    "Australia",
                                    "1985",
                                    "Emisiones (kilotoneladas métricas de dióxido de carbono)",
                                    "220128.059"
                                ],
                                [
                                    "78",
                                    "Australia",
                                    "1995",
                                    "Emisiones (kilotoneladas métricas de dióxido de carbono)",
                                    "285324.094"
                                ],
                                [
                                    "79",
                                    "Australia",
                                    "2005",
                                    "Emisiones (kilotoneladas métricas de dióxido de carbono)",
                                    "365515.118"
                                ],
                                [
                                    "80",
                                    "Australia",
                                    "2010",
                                    "Emisiones (kilotoneladas métricas de dióxido de carbono)",
                                    "383618.673"
                                ],
                                [
                                    "81",
                                    "Australia",
                                    "2015",
                                    "Emisiones (kilotoneladas métricas de dióxido de carbono)",
                                    "373846.773"
                                ],
                                [
                                    "82",
                                    "Australia",
                                    "2016",
                                    "Emisiones (kilotoneladas métricas de dióxido de carbono)",
                                    "381878.629"
                                ],
                                [
                                    "83",
                                    "Australia",
                                    "2017",
                                    "Emisiones (kilotoneladas métricas de dióxido de carbono)",
                                    "384583.857"
                                ],
                                [
                                    "92",
                                    "Austria",
                                    "1975",
                                    "Emisiones (kilotoneladas métricas de dióxido de carbono)",
                                    "49488.796"
                                ],
                                [
                                    "93",
                                    "Austria",
                                    "1985",
                                    "Emisiones (kilotoneladas métricas de dióxido de carbono)",
                                    "52649.019"
                                ],
                                [
                                    "94",
                                    "Austria",
                                    "1995",
                                    "Emisiones (kilotoneladas métricas de dióxido de carbono)",
                                    "59549.049"
                                ],
                                [
                                    "95",
                                    "Austria",
                                    "2005",
                                    "Emisiones (kilotoneladas métricas de dióxido de carbono)",
                                    "74764.026"
                                ]
                            ],
                            "shape": {
                                "columns": 4,
                                "rows": 1066
                            }
                        },
                        "text/html": [
                            "<div>\n",
                            "<style scoped>\n",
                            "    .dataframe tbody tr th:only-of-type {\n",
                            "        vertical-align: middle;\n",
                            "    }\n",
                            "\n",
                            "    .dataframe tbody tr th {\n",
                            "        vertical-align: top;\n",
                            "    }\n",
                            "\n",
                            "    .dataframe thead th {\n",
                            "        text-align: right;\n",
                            "    }\n",
                            "</style>\n",
                            "<table border=\"1\" class=\"dataframe\">\n",
                            "  <thead>\n",
                            "    <tr style=\"text-align: right;\">\n",
                            "      <th></th>\n",
                            "      <th>Country</th>\n",
                            "      <th>Year</th>\n",
                            "      <th>Type</th>\n",
                            "      <th>Value</th>\n",
                            "    </tr>\n",
                            "  </thead>\n",
                            "  <tbody>\n",
                            "    <tr>\n",
                            "      <th>0</th>\n",
                            "      <td>Albania</td>\n",
                            "      <td>1975</td>\n",
                            "      <td>Emisiones (kilotoneladas métricas de dióxido d...</td>\n",
                            "      <td>4338.334</td>\n",
                            "    </tr>\n",
                            "    <tr>\n",
                            "      <th>1</th>\n",
                            "      <td>Albania</td>\n",
                            "      <td>1985</td>\n",
                            "      <td>Emisiones (kilotoneladas métricas de dióxido d...</td>\n",
                            "      <td>6929.926</td>\n",
                            "    </tr>\n",
                            "    <tr>\n",
                            "      <th>2</th>\n",
                            "      <td>Albania</td>\n",
                            "      <td>1995</td>\n",
                            "      <td>Emisiones (kilotoneladas métricas de dióxido d...</td>\n",
                            "      <td>1848.549</td>\n",
                            "    </tr>\n",
                            "    <tr>\n",
                            "      <th>3</th>\n",
                            "      <td>Albania</td>\n",
                            "      <td>2005</td>\n",
                            "      <td>Emisiones (kilotoneladas métricas de dióxido d...</td>\n",
                            "      <td>3825.184</td>\n",
                            "    </tr>\n",
                            "    <tr>\n",
                            "      <th>4</th>\n",
                            "      <td>Albania</td>\n",
                            "      <td>2010</td>\n",
                            "      <td>Emisiones (kilotoneladas métricas de dióxido d...</td>\n",
                            "      <td>3930.295</td>\n",
                            "    </tr>\n",
                            "    <tr>\n",
                            "      <th>...</th>\n",
                            "      <td>...</td>\n",
                            "      <td>...</td>\n",
                            "      <td>...</td>\n",
                            "      <td>...</td>\n",
                            "    </tr>\n",
                            "    <tr>\n",
                            "      <th>2119</th>\n",
                            "      <td>Zimbabwe</td>\n",
                            "      <td>2005</td>\n",
                            "      <td>Emisiones (kilotoneladas métricas de dióxido d...</td>\n",
                            "      <td>10272.774</td>\n",
                            "    </tr>\n",
                            "    <tr>\n",
                            "      <th>2120</th>\n",
                            "      <td>Zimbabwe</td>\n",
                            "      <td>2010</td>\n",
                            "      <td>Emisiones (kilotoneladas métricas de dióxido d...</td>\n",
                            "      <td>9464.714</td>\n",
                            "    </tr>\n",
                            "    <tr>\n",
                            "      <th>2121</th>\n",
                            "      <td>Zimbabwe</td>\n",
                            "      <td>2015</td>\n",
                            "      <td>Emisiones (kilotoneladas métricas de dióxido d...</td>\n",
                            "      <td>11822.362</td>\n",
                            "    </tr>\n",
                            "    <tr>\n",
                            "      <th>2122</th>\n",
                            "      <td>Zimbabwe</td>\n",
                            "      <td>2016</td>\n",
                            "      <td>Emisiones (kilotoneladas métricas de dióxido d...</td>\n",
                            "      <td>10368.900</td>\n",
                            "    </tr>\n",
                            "    <tr>\n",
                            "      <th>2123</th>\n",
                            "      <td>Zimbabwe</td>\n",
                            "      <td>2017</td>\n",
                            "      <td>Emisiones (kilotoneladas métricas de dióxido d...</td>\n",
                            "      <td>9714.938</td>\n",
                            "    </tr>\n",
                            "  </tbody>\n",
                            "</table>\n",
                            "<p>1066 rows × 4 columns</p>\n",
                            "</div>"
                        ],
                        "text/plain": [
                            "       Country  Year                                               Type  \\\n",
                            "0      Albania  1975  Emisiones (kilotoneladas métricas de dióxido d...   \n",
                            "1      Albania  1985  Emisiones (kilotoneladas métricas de dióxido d...   \n",
                            "2      Albania  1995  Emisiones (kilotoneladas métricas de dióxido d...   \n",
                            "3      Albania  2005  Emisiones (kilotoneladas métricas de dióxido d...   \n",
                            "4      Albania  2010  Emisiones (kilotoneladas métricas de dióxido d...   \n",
                            "...        ...   ...                                                ...   \n",
                            "2119  Zimbabwe  2005  Emisiones (kilotoneladas métricas de dióxido d...   \n",
                            "2120  Zimbabwe  2010  Emisiones (kilotoneladas métricas de dióxido d...   \n",
                            "2121  Zimbabwe  2015  Emisiones (kilotoneladas métricas de dióxido d...   \n",
                            "2122  Zimbabwe  2016  Emisiones (kilotoneladas métricas de dióxido d...   \n",
                            "2123  Zimbabwe  2017  Emisiones (kilotoneladas métricas de dióxido d...   \n",
                            "\n",
                            "          Value  \n",
                            "0      4338.334  \n",
                            "1      6929.926  \n",
                            "2      1848.549  \n",
                            "3      3825.184  \n",
                            "4      3930.295  \n",
                            "...         ...  \n",
                            "2119  10272.774  \n",
                            "2120   9464.714  \n",
                            "2121  11822.362  \n",
                            "2122  10368.900  \n",
                            "2123   9714.938  \n",
                            "\n",
                            "[1066 rows x 4 columns]"
                        ]
                    },
                    "execution_count": 4,
                    "metadata": {},
                    "output_type": "execute_result"
                }
            ],
            "source": [
                "#Crea un copia del original filtrado como df_emisions_co2\n",
                "\n",
                "df_emisions_co2 = df[df['Type'] == 'Emisiones (kilotoneladas métricas de dióxido de carbono)']\n",
                "df_emisions_co2"
            ]
        },
        {
            "cell_type": "code",
            "execution_count": 5,
            "metadata": {},
            "outputs": [
                {
                    "data": {
                        "application/vnd.microsoft.datawrangler.viewer.v0+json": {
                            "columns": [
                                {
                                    "name": "index",
                                    "rawType": "int64",
                                    "type": "integer"
                                },
                                {
                                    "name": "Country",
                                    "rawType": "object",
                                    "type": "string"
                                },
                                {
                                    "name": "Year",
                                    "rawType": "int64",
                                    "type": "integer"
                                },
                                {
                                    "name": "Type",
                                    "rawType": "object",
                                    "type": "string"
                                },
                                {
                                    "name": "Value",
                                    "rawType": "float64",
                                    "type": "float"
                                }
                            ],
                            "conversionMethod": "pd.DataFrame",
                            "ref": "14d95ca9-cb64-4022-8796-dbfdbbb43ed8",
                            "rows": [
                                [
                                    "8",
                                    "Albania",
                                    "1975",
                                    "Emisiones per capita (toneladas métricas de dióxido de carbono)",
                                    "1.804"
                                ],
                                [
                                    "9",
                                    "Albania",
                                    "1985",
                                    "Emisiones per capita (toneladas métricas de dióxido de carbono)",
                                    "2.337"
                                ],
                                [
                                    "10",
                                    "Albania",
                                    "1995",
                                    "Emisiones per capita (toneladas métricas de dióxido de carbono)",
                                    "0.58"
                                ],
                                [
                                    "11",
                                    "Albania",
                                    "2005",
                                    "Emisiones per capita (toneladas métricas de dióxido de carbono)",
                                    "1.27"
                                ],
                                [
                                    "12",
                                    "Albania",
                                    "2010",
                                    "Emisiones per capita (toneladas métricas de dióxido de carbono)",
                                    "1.349"
                                ],
                                [
                                    "13",
                                    "Albania",
                                    "2015",
                                    "Emisiones per capita (toneladas métricas de dióxido de carbono)",
                                    "1.328"
                                ],
                                [
                                    "14",
                                    "Albania",
                                    "2016",
                                    "Emisiones per capita (toneladas métricas de dióxido de carbono)",
                                    "1.278"
                                ],
                                [
                                    "15",
                                    "Albania",
                                    "2017",
                                    "Emisiones per capita (toneladas métricas de dióxido de carbono)",
                                    "1.511"
                                ],
                                [
                                    "24",
                                    "Algeria",
                                    "1975",
                                    "Emisiones per capita (toneladas métricas de dióxido de carbono)",
                                    "0.811"
                                ],
                                [
                                    "25",
                                    "Algeria",
                                    "1985",
                                    "Emisiones per capita (toneladas métricas de dióxido de carbono)",
                                    "1.864"
                                ],
                                [
                                    "26",
                                    "Algeria",
                                    "1995",
                                    "Emisiones per capita (toneladas métricas de dióxido de carbono)",
                                    "1.915"
                                ],
                                [
                                    "27",
                                    "Algeria",
                                    "2005",
                                    "Emisiones per capita (toneladas métricas de dióxido de carbono)",
                                    "2.327"
                                ],
                                [
                                    "28",
                                    "Algeria",
                                    "2010",
                                    "Emisiones per capita (toneladas métricas de dióxido de carbono)",
                                    "2.645"
                                ],
                                [
                                    "29",
                                    "Algeria",
                                    "2015",
                                    "Emisiones per capita (toneladas métricas de dióxido de carbono)",
                                    "3.271"
                                ],
                                [
                                    "30",
                                    "Algeria",
                                    "2016",
                                    "Emisiones per capita (toneladas métricas de dióxido de carbono)",
                                    "3.143"
                                ],
                                [
                                    "31",
                                    "Algeria",
                                    "2017",
                                    "Emisiones per capita (toneladas métricas de dióxido de carbono)",
                                    "3.158"
                                ],
                                [
                                    "40",
                                    "Angola",
                                    "1975",
                                    "Emisiones per capita (toneladas métricas de dióxido de carbono)",
                                    "0.255"
                                ],
                                [
                                    "41",
                                    "Angola",
                                    "1985",
                                    "Emisiones per capita (toneladas métricas de dióxido de carbono)",
                                    "0.266"
                                ],
                                [
                                    "42",
                                    "Angola",
                                    "1995",
                                    "Emisiones per capita (toneladas métricas de dióxido de carbono)",
                                    "0.274"
                                ],
                                [
                                    "43",
                                    "Angola",
                                    "2005",
                                    "Emisiones per capita (toneladas métricas de dióxido de carbono)",
                                    "0.314"
                                ],
                                [
                                    "44",
                                    "Angola",
                                    "2010",
                                    "Emisiones per capita (toneladas métricas de dióxido de carbono)",
                                    "0.648"
                                ],
                                [
                                    "45",
                                    "Angola",
                                    "2015",
                                    "Emisiones per capita (toneladas métricas de dióxido de carbono)",
                                    "0.773"
                                ],
                                [
                                    "46",
                                    "Angola",
                                    "2016",
                                    "Emisiones per capita (toneladas métricas de dióxido de carbono)",
                                    "0.745"
                                ],
                                [
                                    "47",
                                    "Angola",
                                    "2017",
                                    "Emisiones per capita (toneladas métricas de dióxido de carbono)",
                                    "0.605"
                                ],
                                [
                                    "56",
                                    "Argentina",
                                    "1975",
                                    "Emisiones per capita (toneladas métricas de dióxido de carbono)",
                                    "3.27"
                                ],
                                [
                                    "57",
                                    "Argentina",
                                    "1985",
                                    "Emisiones per capita (toneladas métricas de dióxido de carbono)",
                                    "2.889"
                                ],
                                [
                                    "58",
                                    "Argentina",
                                    "1995",
                                    "Emisiones per capita (toneladas métricas de dióxido de carbono)",
                                    "3.353"
                                ],
                                [
                                    "59",
                                    "Argentina",
                                    "2005",
                                    "Emisiones per capita (toneladas métricas de dióxido de carbono)",
                                    "3.819"
                                ],
                                [
                                    "60",
                                    "Argentina",
                                    "2010",
                                    "Emisiones per capita (toneladas métricas de dióxido de carbono)",
                                    "4.215"
                                ],
                                [
                                    "61",
                                    "Argentina",
                                    "2015",
                                    "Emisiones per capita (toneladas métricas de dióxido de carbono)",
                                    "4.385"
                                ],
                                [
                                    "62",
                                    "Argentina",
                                    "2016",
                                    "Emisiones per capita (toneladas métricas de dióxido de carbono)",
                                    "4.345"
                                ],
                                [
                                    "63",
                                    "Argentina",
                                    "2017",
                                    "Emisiones per capita (toneladas métricas de dióxido de carbono)",
                                    "4.142"
                                ],
                                [
                                    "70",
                                    "Armenia",
                                    "1995",
                                    "Emisiones per capita (toneladas métricas de dióxido de carbono)",
                                    "1.047"
                                ],
                                [
                                    "71",
                                    "Armenia",
                                    "2005",
                                    "Emisiones per capita (toneladas métricas de dióxido de carbono)",
                                    "1.385"
                                ],
                                [
                                    "72",
                                    "Armenia",
                                    "2010",
                                    "Emisiones per capita (toneladas métricas de dióxido de carbono)",
                                    "1.407"
                                ],
                                [
                                    "73",
                                    "Armenia",
                                    "2015",
                                    "Emisiones per capita (toneladas métricas de dióxido de carbono)",
                                    "1.612"
                                ],
                                [
                                    "74",
                                    "Armenia",
                                    "2016",
                                    "Emisiones per capita (toneladas métricas de dióxido de carbono)",
                                    "1.652"
                                ],
                                [
                                    "75",
                                    "Armenia",
                                    "2017",
                                    "Emisiones per capita (toneladas métricas de dióxido de carbono)",
                                    "1.763"
                                ],
                                [
                                    "84",
                                    "Australia",
                                    "1975",
                                    "Emisiones per capita (toneladas métricas de dióxido de carbono)",
                                    "12.848"
                                ],
                                [
                                    "85",
                                    "Australia",
                                    "1985",
                                    "Emisiones per capita (toneladas métricas de dióxido de carbono)",
                                    "13.943"
                                ],
                                [
                                    "86",
                                    "Australia",
                                    "1995",
                                    "Emisiones per capita (toneladas métricas de dióxido de carbono)",
                                    "15.656"
                                ],
                                [
                                    "87",
                                    "Australia",
                                    "2005",
                                    "Emisiones per capita (toneladas métricas de dióxido de carbono)",
                                    "17.873"
                                ],
                                [
                                    "88",
                                    "Australia",
                                    "2010",
                                    "Emisiones per capita (toneladas métricas de dióxido de carbono)",
                                    "17.412"
                                ],
                                [
                                    "89",
                                    "Australia",
                                    "2015",
                                    "Emisiones per capita (toneladas métricas de dióxido de carbono)",
                                    "15.697"
                                ],
                                [
                                    "90",
                                    "Australia",
                                    "2016",
                                    "Emisiones per capita (toneladas métricas de dióxido de carbono)",
                                    "15.786"
                                ],
                                [
                                    "91",
                                    "Australia",
                                    "2017",
                                    "Emisiones per capita (toneladas métricas de dióxido de carbono)",
                                    "15.632"
                                ],
                                [
                                    "100",
                                    "Austria",
                                    "1975",
                                    "Emisiones per capita (toneladas métricas de dióxido de carbono)",
                                    "6.53"
                                ],
                                [
                                    "101",
                                    "Austria",
                                    "1985",
                                    "Emisiones per capita (toneladas métricas de dióxido de carbono)",
                                    "6.96"
                                ],
                                [
                                    "102",
                                    "Austria",
                                    "1995",
                                    "Emisiones per capita (toneladas métricas de dióxido de carbono)",
                                    "7.492"
                                ],
                                [
                                    "103",
                                    "Austria",
                                    "2005",
                                    "Emisiones per capita (toneladas métricas de dióxido de carbono)",
                                    "9.09"
                                ]
                            ],
                            "shape": {
                                "columns": 4,
                                "rows": 1066
                            }
                        },
                        "text/html": [
                            "<div>\n",
                            "<style scoped>\n",
                            "    .dataframe tbody tr th:only-of-type {\n",
                            "        vertical-align: middle;\n",
                            "    }\n",
                            "\n",
                            "    .dataframe tbody tr th {\n",
                            "        vertical-align: top;\n",
                            "    }\n",
                            "\n",
                            "    .dataframe thead th {\n",
                            "        text-align: right;\n",
                            "    }\n",
                            "</style>\n",
                            "<table border=\"1\" class=\"dataframe\">\n",
                            "  <thead>\n",
                            "    <tr style=\"text-align: right;\">\n",
                            "      <th></th>\n",
                            "      <th>Country</th>\n",
                            "      <th>Year</th>\n",
                            "      <th>Type</th>\n",
                            "      <th>Value</th>\n",
                            "    </tr>\n",
                            "  </thead>\n",
                            "  <tbody>\n",
                            "    <tr>\n",
                            "      <th>8</th>\n",
                            "      <td>Albania</td>\n",
                            "      <td>1975</td>\n",
                            "      <td>Emisiones per capita (toneladas métricas de di...</td>\n",
                            "      <td>1.804</td>\n",
                            "    </tr>\n",
                            "    <tr>\n",
                            "      <th>9</th>\n",
                            "      <td>Albania</td>\n",
                            "      <td>1985</td>\n",
                            "      <td>Emisiones per capita (toneladas métricas de di...</td>\n",
                            "      <td>2.337</td>\n",
                            "    </tr>\n",
                            "    <tr>\n",
                            "      <th>10</th>\n",
                            "      <td>Albania</td>\n",
                            "      <td>1995</td>\n",
                            "      <td>Emisiones per capita (toneladas métricas de di...</td>\n",
                            "      <td>0.580</td>\n",
                            "    </tr>\n",
                            "    <tr>\n",
                            "      <th>11</th>\n",
                            "      <td>Albania</td>\n",
                            "      <td>2005</td>\n",
                            "      <td>Emisiones per capita (toneladas métricas de di...</td>\n",
                            "      <td>1.270</td>\n",
                            "    </tr>\n",
                            "    <tr>\n",
                            "      <th>12</th>\n",
                            "      <td>Albania</td>\n",
                            "      <td>2010</td>\n",
                            "      <td>Emisiones per capita (toneladas métricas de di...</td>\n",
                            "      <td>1.349</td>\n",
                            "    </tr>\n",
                            "    <tr>\n",
                            "      <th>...</th>\n",
                            "      <td>...</td>\n",
                            "      <td>...</td>\n",
                            "      <td>...</td>\n",
                            "      <td>...</td>\n",
                            "    </tr>\n",
                            "    <tr>\n",
                            "      <th>2127</th>\n",
                            "      <td>Zimbabwe</td>\n",
                            "      <td>2005</td>\n",
                            "      <td>Emisiones per capita (toneladas métricas de di...</td>\n",
                            "      <td>0.794</td>\n",
                            "    </tr>\n",
                            "    <tr>\n",
                            "      <th>2128</th>\n",
                            "      <td>Zimbabwe</td>\n",
                            "      <td>2010</td>\n",
                            "      <td>Emisiones per capita (toneladas métricas de di...</td>\n",
                            "      <td>0.672</td>\n",
                            "    </tr>\n",
                            "    <tr>\n",
                            "      <th>2129</th>\n",
                            "      <td>Zimbabwe</td>\n",
                            "      <td>2015</td>\n",
                            "      <td>Emisiones per capita (toneladas métricas de di...</td>\n",
                            "      <td>0.749</td>\n",
                            "    </tr>\n",
                            "    <tr>\n",
                            "      <th>2130</th>\n",
                            "      <td>Zimbabwe</td>\n",
                            "      <td>2016</td>\n",
                            "      <td>Emisiones per capita (toneladas métricas de di...</td>\n",
                            "      <td>0.642</td>\n",
                            "    </tr>\n",
                            "    <tr>\n",
                            "      <th>2131</th>\n",
                            "      <td>Zimbabwe</td>\n",
                            "      <td>2017</td>\n",
                            "      <td>Emisiones per capita (toneladas métricas de di...</td>\n",
                            "      <td>0.588</td>\n",
                            "    </tr>\n",
                            "  </tbody>\n",
                            "</table>\n",
                            "<p>1066 rows × 4 columns</p>\n",
                            "</div>"
                        ],
                        "text/plain": [
                            "       Country  Year                                               Type  Value\n",
                            "8      Albania  1975  Emisiones per capita (toneladas métricas de di...  1.804\n",
                            "9      Albania  1985  Emisiones per capita (toneladas métricas de di...  2.337\n",
                            "10     Albania  1995  Emisiones per capita (toneladas métricas de di...  0.580\n",
                            "11     Albania  2005  Emisiones per capita (toneladas métricas de di...  1.270\n",
                            "12     Albania  2010  Emisiones per capita (toneladas métricas de di...  1.349\n",
                            "...        ...   ...                                                ...    ...\n",
                            "2127  Zimbabwe  2005  Emisiones per capita (toneladas métricas de di...  0.794\n",
                            "2128  Zimbabwe  2010  Emisiones per capita (toneladas métricas de di...  0.672\n",
                            "2129  Zimbabwe  2015  Emisiones per capita (toneladas métricas de di...  0.749\n",
                            "2130  Zimbabwe  2016  Emisiones per capita (toneladas métricas de di...  0.642\n",
                            "2131  Zimbabwe  2017  Emisiones per capita (toneladas métricas de di...  0.588\n",
                            "\n",
                            "[1066 rows x 4 columns]"
                        ]
                    },
                    "execution_count": 5,
                    "metadata": {},
                    "output_type": "execute_result"
                }
            ],
            "source": [
                "#Crea un copia del original filtrado como df_emisions_co2_per_capita\n",
                "\n",
                "df_emisions_co2_per_capita = df[df['Type'] == \"Emisiones per capita (toneladas métricas de dióxido de carbono)\"]\n",
                "\n",
                "df_emisions_co2_per_capita"
            ]
        },
        {
            "cell_type": "markdown",
            "metadata": {
                "azdata_cell_guid": "66dbee89-6a74-42d6-b532-a95779ccc82a",
                "id": "d6bd6661"
            },
            "source": [
                "# Pregunta 1"
            ]
        },
        {
            "cell_type": "markdown",
            "metadata": {
                "azdata_cell_guid": "b30cf472-64d8-453a-b581-4d01915e9a38",
                "id": "3299b6b5"
            },
            "source": [
                "Cuántas filas tiene el dataframe 'df_emisions_co2'?"
            ]
        },
        {
            "cell_type": "code",
            "execution_count": 6,
            "metadata": {
                "azdata_cell_guid": "63fba01e-a296-4e37-badf-df51ee463964",
                "id": "f02d60cc",
                "language": "python"
            },
            "outputs": [
                {
                    "name": "stdout",
                    "output_type": "stream",
                    "text": [
                        "El data frame tiene 1066 filas\n"
                    ]
                }
            ],
            "source": [
                "# Coloque el código que responda a la pregunta aqui\n",
                "cantidad_filas = df_emisions_co2.shape[0]\n",
                "\n",
                "print(f'El data frame tiene {cantidad_filas} filas')"
            ]
        },
        {
            "cell_type": "markdown",
            "metadata": {
                "azdata_cell_guid": "5f8f7bed-99e7-4c3b-b621-d430915552a9",
                "id": "880f891d"
            },
            "source": [
                "# Pregunta 2"
            ]
        },
        {
            "cell_type": "markdown",
            "metadata": {
                "azdata_cell_guid": "3025751b-734d-491a-a0f2-e454076155fa",
                "id": "34700c9d"
            },
            "source": [
                "Cuál en el valor más alto de emisiones (en general) usando el dataframe 'df_emisions_co2'?"
            ]
        },
        {
            "cell_type": "code",
            "execution_count": 7,
            "metadata": {
                "azdata_cell_guid": "675d06d0-c52d-4848-8c84-b3503476d7e3",
                "id": "24bdf93a",
                "language": "python"
            },
            "outputs": [
                {
                    "name": "stdout",
                    "output_type": "stream",
                    "text": [
                        "El valor más alto de emisiones es: 9257933.9\n"
                    ]
                }
            ],
            "source": [
                "# Coloque el código que responda a la pregunta aqui exactamente lo que se pregunta\n",
                "valor_maximo = df_emisions_co2['Value'].max()\n",
                "print(f\"El valor más alto de emisiones es: {valor_maximo}\")"
            ]
        },
        {
            "cell_type": "markdown",
            "metadata": {
                "azdata_cell_guid": "97637f7a-fb3b-4b24-a6e8-769427d8c984",
                "id": "7ebd3621"
            },
            "source": [
                "# Pregunta 3"
            ]
        },
        {
            "cell_type": "markdown",
            "metadata": {
                "azdata_cell_guid": "4f9d7b44-d0e8-4705-8fa0-9a84d56774cf",
                "id": "eb81f1c8"
            },
            "source": [
                "Cuántos países (Countries) hay en el dataframe 'df_emisions_co2'?"
            ]
        },
        {
            "cell_type": "code",
            "execution_count": 8,
            "metadata": {
                "azdata_cell_guid": "207fdf39-e7dd-4ac4-b3f4-a129a75f2a6d",
                "id": "4f60454b",
                "language": "python"
            },
            "outputs": [
                {
                    "name": "stdout",
                    "output_type": "stream",
                    "text": [
                        "La cantidad de países únicos es: 142\n"
                    ]
                }
            ],
            "source": [
                "# Coloque el código que responda a la pregunta aqui exactamente lo que se pregunta\n",
                "total_paises = df_emisions_co2['Country'].nunique()\n",
                "print(\"La cantidad de países únicos es:\", total_paises)"
            ]
        },
        {
            "cell_type": "code",
            "execution_count": 9,
            "metadata": {
                "azdata_cell_guid": "52f1ec4f-654f-43c8-a541-2fe225b3a476",
                "id": "2f46faa0",
                "language": "python"
            },
            "outputs": [
                {
                    "name": "stdout",
                    "output_type": "stream",
                    "text": [
                        "La cantidad de países únicos es: ['Albania' 'Algeria' 'Angola' 'Argentina' 'Armenia' 'Australia' 'Austria'\n",
                        " 'Azerbaijan' 'Bahrain' 'Bangladesh' 'Belarus' 'Belgium' 'Benin'\n",
                        " 'Bolivia (Plurin. State of)' 'Bosnia and Herzegovina' 'Botswana' 'Brazil'\n",
                        " 'Brunei Darussalam' 'Bulgaria' 'Cambodia' 'Cameroon' 'Canada' 'Chile'\n",
                        " 'China' 'China Hong Kong SAR' 'Colombia' 'Congo' 'Costa Rica'\n",
                        " 'Côte d’Ivoire' 'Croatia' 'Cuba' 'Curaçao' 'Cyprus' 'Czechia'\n",
                        " \"Dem. People's Rep. Korea\" 'Dem. Rep. of the Congo' 'Denmark'\n",
                        " 'Dominican Republic' 'Ecuador' 'Egypt' 'El Salvador' 'Eritrea' 'Estonia'\n",
                        " 'Ethiopia' 'Finland' 'France' 'Gabon' 'Georgia' 'Germany' 'Ghana'\n",
                        " 'Gibraltar' 'Greece' 'Guatemala' 'Haiti' 'Honduras' 'Hungary' 'Iceland'\n",
                        " 'India' 'Indonesia' 'Iran (Islamic Republic of)' 'Iraq' 'Ireland'\n",
                        " 'Israel' 'Italy' 'Jamaica' 'Japan' 'Jordan' 'Kazakhstan' 'Kenya' 'Kosovo'\n",
                        " 'Kuwait' 'Kyrgyzstan' 'Latvia' 'Lebanon' 'Libya' 'Lithuania' 'Luxembourg'\n",
                        " 'Malaysia' 'Malta' 'Mauritius' 'Mexico' 'Mongolia' 'Montenegro' 'Morocco'\n",
                        " 'Mozambique' 'Myanmar' 'Namibia' 'Nepal' 'Netherlands' 'New Zealand'\n",
                        " 'Nicaragua' 'Niger' 'Nigeria' 'Norway' 'Oman' 'Pakistan' 'Panama'\n",
                        " 'Paraguay' 'Peru' 'Philippines' 'Poland' 'Portugal' 'Qatar'\n",
                        " 'Republic of Korea' 'Republic of Moldova' 'Romania' 'Russian Federation'\n",
                        " 'Saudi Arabia' 'Senegal' 'Serbia' 'Singapore' 'Slovakia' 'Slovenia'\n",
                        " 'South Africa' 'South Sudan' 'Spain' 'Sri Lanka' 'Sudan' 'Suriname'\n",
                        " 'Sweden' 'Switzerland' 'Syrian Arab Republic' 'Tajikistan' 'Thailand'\n",
                        " 'North Macedonia' 'Togo' 'Trinidad and Tobago' 'Tunisia' 'Turkey'\n",
                        " 'Turkmenistan' 'Ukraine' 'United Arab Emirates' 'United Kingdom'\n",
                        " 'United Rep. of Tanzania' 'United States of America' 'Uruguay'\n",
                        " 'Uzbekistan' 'Venezuela (Boliv. Rep. of)' 'Viet Nam' 'Yemen' 'Zambia'\n",
                        " 'Zimbabwe']\n"
                    ]
                }
            ],
            "source": [
                "#Imprima un lista con todos los paises\n",
                "total_paises = df_emisions_co2['Country'].unique()\n",
                "print(\"La cantidad de países únicos es:\", total_paises)"
            ]
        },
        {
            "cell_type": "markdown",
            "metadata": {
                "azdata_cell_guid": "30e5c2d6-95aa-4bda-ad89-2b581a214d82",
                "id": "1e40352a"
            },
            "source": [
                "# Pregunta 4"
            ]
        },
        {
            "cell_type": "markdown",
            "metadata": {
                "azdata_cell_guid": "d4c1a6a0-d184-4feb-9c6e-a934c52d0343",
                "id": "80c46908"
            },
            "source": [
                "Cuál es el país que tiene mayor emisiones usando el dataframe 'df_emisions_co2'?"
            ]
        },
        {
            "cell_type": "code",
            "execution_count": 10,
            "metadata": {
                "azdata_cell_guid": "ee5ff21c-8288-42a9-9212-4d88ff639e85",
                "id": "e6df7d42",
                "language": "python"
            },
            "outputs": [
                {
                    "name": "stdout",
                    "output_type": "stream",
                    "text": [
                        "El pais con mayor cantidad de emisiones es: China\n"
                    ]
                }
            ],
            "source": [
                "# Coloque el código que responda a la pregunta aqui exactamente lo que se pregunta\n",
                "Max_emision = df_emisions_co2.groupby(\"Country\")[\"Value\"].sum()\n",
                "\n",
                "print(f\"El pais con mayor cantidad de emisiones es: {Max_emision.idxmax()}\")"
            ]
        },
        {
            "cell_type": "markdown",
            "metadata": {
                "azdata_cell_guid": "da6c194b-ecdd-42b0-82ca-210d6b74f57f",
                "id": "26c97fde"
            },
            "source": [
                "# Pregunta 5"
            ]
        },
        {
            "cell_type": "markdown",
            "metadata": {
                "azdata_cell_guid": "a5cf8867-358a-40cb-9933-027dd8e06aa3",
                "id": "541f44ca"
            },
            "source": [
                "Cuál es el año que tiene mayor emisiones para el país de Spain usando el dataframe 'df_emisions_co2'?"
            ]
        },
        {
            "cell_type": "code",
            "execution_count": 11,
            "metadata": {
                "azdata_cell_guid": "10e7e0fe-162a-4b2a-a01e-db2bd04b6865",
                "id": "c32f62d1",
                "language": "python"
            },
            "outputs": [
                {
                    "name": "stdout",
                    "output_type": "stream",
                    "text": [
                        "El año en el que más emisiones ocurrieron para españa fue en  2005\n"
                    ]
                }
            ],
            "source": [
                "# Coloque el código que responda a la pregunta aqui exactamente lo que se pregunta\n",
                "\n",
                "spain_df = df_emisions_co2[df_emisions_co2['Country'] == 'Spain']\n",
                "\n",
                "spain_df_max = spain_df.loc[spain_df['Value'].idxmax()]\n",
                "\n",
                "print(f\"El año en el que más emisiones ocurrieron para españa fue en \", spain_df_max['Year'])"
            ]
        },
        {
            "cell_type": "markdown",
            "metadata": {
                "azdata_cell_guid": "78a2c35d-5ca9-4cc2-9890-05b367218238",
                "id": "55ce4564"
            },
            "source": [
                "# Pregunta 6"
            ]
        },
        {
            "cell_type": "markdown",
            "metadata": {
                "azdata_cell_guid": "048ff587-0368-4c8c-930d-678786aa18c3",
                "id": "3473e4f2"
            },
            "source": [
                "Cuáles son los años que se tiene registros para el dataframe 'df_emisions_co2_per_capita'?\n",
                "\n",
                "Entrege una lista con los años sin repetirse"
            ]
        },
        {
            "cell_type": "code",
            "execution_count": 12,
            "metadata": {
                "azdata_cell_guid": "75d9cbc6-d254-49d4-8cfc-7b0f74456608",
                "id": "5ad50924",
                "language": "python"
            },
            "outputs": [
                {
                    "name": "stdout",
                    "output_type": "stream",
                    "text": [
                        "La cantidad de años es: [1975 1985 1995 2005 2010 2015 2016 2017]\n"
                    ]
                }
            ],
            "source": [
                "# Coloque el código que responda a la pregunta aqui exactamente lo que se pregunta\n",
                "\n",
                "total_años_per_capita = df_emisions_co2_per_capita['Year'].unique()\n",
                "print(\"La cantidad de años es:\", total_años_per_capita)"
            ]
        },
        {
            "cell_type": "markdown",
            "metadata": {
                "azdata_cell_guid": "8cee75a7-4fcc-47eb-883a-641aa900bc51",
                "id": "18fa522e"
            },
            "source": [
                "# Pregunta 7"
            ]
        },
        {
            "cell_type": "markdown",
            "metadata": {
                "azdata_cell_guid": "8532f291-3bd2-4da4-9eb3-7ac69e49b4a5",
                "id": "2747ce42"
            },
            "source": [
                "Cuántas son las emisiones en 'kilotoneladas métricas' en total usando todos los países para usando el dataframe 'df_emisions_co2'?\n"
            ]
        },
        {
            "cell_type": "code",
            "execution_count": 13,
            "metadata": {
                "azdata_cell_guid": "3b4710af-d857-49ce-9b19-931839541d39",
                "id": "e8cbd117",
                "language": "python"
            },
            "outputs": [
                {
                    "name": "stdout",
                    "output_type": "stream",
                    "text": [
                        "El total de emisiones en kilotoneladas es de: 195028250.416\n"
                    ]
                }
            ],
            "source": [
                "# Coloque el código que responda a la pregunta aqui exactamente lo que se pregunta\n",
                "\n",
                "total_kilotoneladas = df_emisions_co2[\"Value\"].sum()\n",
                "\n",
                "print(f\"El total de emisiones en kilotoneladas es de: {total_kilotoneladas}\")"
            ]
        },
        {
            "cell_type": "markdown",
            "metadata": {
                "azdata_cell_guid": "ddfe093b-e52f-4379-8062-efedfbddb684",
                "id": "42aa86db"
            },
            "source": [
                "# Pregunta 8"
            ]
        },
        {
            "cell_type": "markdown",
            "metadata": {
                "azdata_cell_guid": "ce742599-a5c4-41c7-87f1-7a881676c09f",
                "id": "a303974d"
            },
            "source": [
                "Cuántas son las emisiones en 'kilotoneladas métricas' sólo para Albania usando el dataframe 'df_emisions_co2'?\n"
            ]
        },
        {
            "cell_type": "code",
            "execution_count": 14,
            "metadata": {
                "azdata_cell_guid": "86c46d24-2812-47a3-aa64-fd2d6981cf9a",
                "id": "181ab815",
                "language": "python"
            },
            "outputs": [
                {
                    "name": "stdout",
                    "output_type": "stream",
                    "text": [
                        "Las emisiones en kilotoneladas metricas solo para albania son: 32713.283000000003\n"
                    ]
                }
            ],
            "source": [
                "# Coloque el código que responda a la pregunta aqui exactamente lo que se pregunta\n",
                "\n",
                "Albania_df = df_emisions_co2[df_emisions_co2['Country'] == 'Albania']\n",
                "\n",
                "print(f\"Las emisiones en kilotoneladas metricas solo para albania son: {Albania_df[\"Value\"].sum()}\")"
            ]
        },
        {
            "cell_type": "markdown",
            "metadata": {
                "azdata_cell_guid": "5d5b3bfb-2643-45d0-ba92-b53affb67c17",
                "id": "d084c9f3"
            },
            "source": [
                "# Pregunta 9"
            ]
        },
        {
            "cell_type": "markdown",
            "metadata": {
                "azdata_cell_guid": "acd10e28-cde4-48c3-bba9-eee6323b06cc",
                "id": "ae9cebff"
            },
            "source": [
                "Cuántas son las emisiones totales en 'libras' sólo para Costa Rica usando el dataframe 'df_emisions_co2'?\n"
            ]
        },
        {
            "cell_type": "code",
            "execution_count": 15,
            "metadata": {
                "azdata_cell_guid": "8c372164-c8f6-4e72-9fd3-2b7c1eaf0499",
                "id": "ee97d492",
                "language": "python"
            },
            "outputs": [
                {
                    "name": "stdout",
                    "output_type": "stream",
                    "text": [
                        "Las emisiones en libras solo para Costa Ricas son: 93086016856993.1 libras\n"
                    ]
                }
            ],
            "source": [
                "# Coloque el código que responda a la pregunta aqui exactamente lo que se pregunta\n",
                "\n",
                "CR_df = df_emisions_co2[df_emisions_co2['Country'] == 'Costa Rica']\n",
                "\n",
                "(CR_df[\"Value\"].sum()) # == 42223.107\n",
                "\n",
                "libras = 42223.107 * 2204622621.85\n",
                "\n",
                "print(f\"Las emisiones en libras solo para Costa Ricas son: {libras} libras\")\n"
            ]
        },
        {
            "cell_type": "markdown",
            "metadata": {
                "azdata_cell_guid": "e505d100-2c39-45a3-9c7d-70c1f83b268d",
                "id": "eb6dfc54"
            },
            "source": [
                "# Pregunta 10"
            ]
        },
        {
            "cell_type": "markdown",
            "metadata": {
                "azdata_cell_guid": "cfe25701-d219-459b-a108-75787ee1f8ae",
                "id": "5862817e"
            },
            "source": [
                "Para sólo 'Costa Rica' y suponiendo que las emisiones se estancan a partir del último año reportado (se mantiene igual). Cuántas son las emisiones en 'Kg' sólo para Costa Rica en el año desde el ultimo año hasta el 2025 usando el dataframe 'df_emisions_co2'?\n"
            ]
        },
        {
            "cell_type": "code",
            "execution_count": 21,
            "metadata": {
                "azdata_cell_guid": "c65ecf97-b679-4808-91cc-fe771ce12b6b",
                "id": "76ed009c",
                "language": "python"
            },
            "outputs": [
                {
                    "name": "stdout",
                    "output_type": "stream",
                    "text": [
                        "Las emisiones proyectadas para costa rica desde 2017 en kilogramos es de 68259698999.99999kg\n"
                    ]
                }
            ],
            "source": [
                "# Coloque el código que responda a la pregunta aqui exactamente lo que se pregunta\n",
                "CR_df_max = CR_df.loc[CR_df['Year'].idxmax()]\n",
                "\n",
                "ultimo_año = CR_df_max['Year']\n",
                "ultimo_valor = CR_df_max['Value']\n",
                "\n",
                "años_proyectados = 2025 - ultimo_año + 1\n",
                "\n",
                "total_CR = ultimo_valor * años_proyectados\n",
                "\n",
                "print(f\"Las emisiones proyectadas para costa rica desde 2017 en kilogramos es de {total_CR * 1000000}kg\")"
            ]
        },
        {
            "cell_type": "markdown",
            "metadata": {
                "azdata_cell_guid": "46cbe15c-fe3e-440c-8d83-8c8f73e4d5a7",
                "id": "1c18874b"
            },
            "source": [
                "# Pregunta 12"
            ]
        },
        {
            "cell_type": "markdown",
            "metadata": {
                "azdata_cell_guid": "14dc18b7-8bdb-41a5-a5eb-34da63fef812",
                "id": "6a487c43"
            },
            "source": [
                "Para sólo los países de Centroamérica ['El Salvador', 'Honduras', 'Guatemala', 'Costa Rica', 'Nicaragua'] obtener un reporte por año de las emisiones totales en Centroamérica usando el dataframe 'df_emisions_co2'?\n",
                "Se espera un dataframe de 2 columnas: 'Year' y 'total_por_año'"
            ]
        },
        {
            "cell_type": "code",
            "execution_count": 17,
            "metadata": {
                "azdata_cell_guid": "ba31d64d-a10b-4275-b19e-86f3e18984b6",
                "id": "1d0426bf",
                "language": "python"
            },
            "outputs": [
                {
                    "data": {
                        "application/vnd.microsoft.datawrangler.viewer.v0+json": {
                            "columns": [
                                {
                                    "name": "index",
                                    "rawType": "int64",
                                    "type": "integer"
                                },
                                {
                                    "name": "Year",
                                    "rawType": "int64",
                                    "type": "integer"
                                },
                                {
                                    "name": "total_por_año",
                                    "rawType": "float64",
                                    "type": "float"
                                }
                            ],
                            "conversionMethod": "pd.DataFrame",
                            "ref": "47a19530-8c4c-4860-bd22-88c94206bd18",
                            "rows": [
                                [
                                    "0",
                                    "1975",
                                    "9860.972"
                                ],
                                [
                                    "1",
                                    "1985",
                                    "10250.333"
                                ],
                                [
                                    "2",
                                    "1995",
                                    "20960.234"
                                ],
                                [
                                    "3",
                                    "2005",
                                    "33562.291"
                                ],
                                [
                                    "4",
                                    "2010",
                                    "34533.555"
                                ],
                                [
                                    "5",
                                    "2015",
                                    "43107.376000000004"
                                ],
                                [
                                    "6",
                                    "2016",
                                    "44366.072"
                                ],
                                [
                                    "7",
                                    "2017",
                                    "43556.261"
                                ]
                            ],
                            "shape": {
                                "columns": 2,
                                "rows": 8
                            }
                        },
                        "text/html": [
                            "<div>\n",
                            "<style scoped>\n",
                            "    .dataframe tbody tr th:only-of-type {\n",
                            "        vertical-align: middle;\n",
                            "    }\n",
                            "\n",
                            "    .dataframe tbody tr th {\n",
                            "        vertical-align: top;\n",
                            "    }\n",
                            "\n",
                            "    .dataframe thead th {\n",
                            "        text-align: right;\n",
                            "    }\n",
                            "</style>\n",
                            "<table border=\"1\" class=\"dataframe\">\n",
                            "  <thead>\n",
                            "    <tr style=\"text-align: right;\">\n",
                            "      <th></th>\n",
                            "      <th>Year</th>\n",
                            "      <th>total_por_año</th>\n",
                            "    </tr>\n",
                            "  </thead>\n",
                            "  <tbody>\n",
                            "    <tr>\n",
                            "      <th>0</th>\n",
                            "      <td>1975</td>\n",
                            "      <td>9860.972</td>\n",
                            "    </tr>\n",
                            "    <tr>\n",
                            "      <th>1</th>\n",
                            "      <td>1985</td>\n",
                            "      <td>10250.333</td>\n",
                            "    </tr>\n",
                            "    <tr>\n",
                            "      <th>2</th>\n",
                            "      <td>1995</td>\n",
                            "      <td>20960.234</td>\n",
                            "    </tr>\n",
                            "    <tr>\n",
                            "      <th>3</th>\n",
                            "      <td>2005</td>\n",
                            "      <td>33562.291</td>\n",
                            "    </tr>\n",
                            "    <tr>\n",
                            "      <th>4</th>\n",
                            "      <td>2010</td>\n",
                            "      <td>34533.555</td>\n",
                            "    </tr>\n",
                            "    <tr>\n",
                            "      <th>5</th>\n",
                            "      <td>2015</td>\n",
                            "      <td>43107.376</td>\n",
                            "    </tr>\n",
                            "    <tr>\n",
                            "      <th>6</th>\n",
                            "      <td>2016</td>\n",
                            "      <td>44366.072</td>\n",
                            "    </tr>\n",
                            "    <tr>\n",
                            "      <th>7</th>\n",
                            "      <td>2017</td>\n",
                            "      <td>43556.261</td>\n",
                            "    </tr>\n",
                            "  </tbody>\n",
                            "</table>\n",
                            "</div>"
                        ],
                        "text/plain": [
                            "   Year  total_por_año\n",
                            "0  1975       9860.972\n",
                            "1  1985      10250.333\n",
                            "2  1995      20960.234\n",
                            "3  2005      33562.291\n",
                            "4  2010      34533.555\n",
                            "5  2015      43107.376\n",
                            "6  2016      44366.072\n",
                            "7  2017      43556.261"
                        ]
                    },
                    "execution_count": 17,
                    "metadata": {},
                    "output_type": "execute_result"
                }
            ],
            "source": [
                "# Coloque el código que responda a la pregunta aqui exactamente lo que se pregunta\n",
                "\n",
                "paises_centroamerica = ['El Salvador', 'Honduras', 'Guatemala', 'Costa Rica', 'Nicaragua']\n",
                "\n",
                "df_centroamerica = df_emisions_co2[df_emisions_co2['Country'].isin(paises_centroamerica)]\n",
                "\n",
                "df_emisiones_totales = df_centroamerica.groupby('Year')['Value'].sum().reset_index()\n",
                "\n",
                "df_emisiones_totales = df_emisiones_totales.rename(columns={'Value': 'total_por_año'})\n",
                "\n",
                "df_emisiones_totales\n"
            ]
        },
        {
            "cell_type": "markdown",
            "metadata": {
                "azdata_cell_guid": "77c94d71-c324-4495-88c1-90cb5953b117",
                "id": "8fdaae3d"
            },
            "source": [
                "# Pregunta 13"
            ]
        },
        {
            "cell_type": "markdown",
            "metadata": {
                "azdata_cell_guid": "e4379b6f-d518-49e9-ba6a-181999caae36",
                "id": "8a7e17ff"
            },
            "source": [
                "Para sólo los países de Centroamérica ['El Salvador', 'Honduras', 'Guatemala', 'Costa Rica', 'Nicaragua'] obtener un reporte por año de las emisiones en promedio en Centroamérica usando el dataframe 'df_emisions_co2_per_capita'?\n",
                "Se espera un dataframe de 2 columnas: 'Year' y 'promedio_por_año'"
            ]
        },
        {
            "cell_type": "code",
            "execution_count": 33,
            "metadata": {
                "azdata_cell_guid": "b8107b3d-4b45-45e3-9c3e-2e20c56ed7a9",
                "id": "4ec787f4",
                "language": "python"
            },
            "outputs": [
                {
                    "data": {
                        "application/vnd.microsoft.datawrangler.viewer.v0+json": {
                            "columns": [
                                {
                                    "name": "index",
                                    "rawType": "int64",
                                    "type": "integer"
                                },
                                {
                                    "name": "Year",
                                    "rawType": "int64",
                                    "type": "integer"
                                },
                                {
                                    "name": "promedio_por_año",
                                    "rawType": "float64",
                                    "type": "float"
                                }
                            ],
                            "conversionMethod": "pd.DataFrame",
                            "ref": "04b0933a-63b6-441b-9a20-025a83314008",
                            "rows": [
                                [
                                    "0",
                                    "1975",
                                    "1972.1943999999999"
                                ],
                                [
                                    "1",
                                    "1985",
                                    "2050.0666"
                                ],
                                [
                                    "2",
                                    "1995",
                                    "4192.0468"
                                ],
                                [
                                    "3",
                                    "2005",
                                    "6712.458199999999"
                                ],
                                [
                                    "4",
                                    "2010",
                                    "6906.711"
                                ],
                                [
                                    "5",
                                    "2015",
                                    "8621.4752"
                                ],
                                [
                                    "6",
                                    "2016",
                                    "8873.2144"
                                ],
                                [
                                    "7",
                                    "2017",
                                    "8711.252199999999"
                                ]
                            ],
                            "shape": {
                                "columns": 2,
                                "rows": 8
                            }
                        },
                        "text/html": [
                            "<div>\n",
                            "<style scoped>\n",
                            "    .dataframe tbody tr th:only-of-type {\n",
                            "        vertical-align: middle;\n",
                            "    }\n",
                            "\n",
                            "    .dataframe tbody tr th {\n",
                            "        vertical-align: top;\n",
                            "    }\n",
                            "\n",
                            "    .dataframe thead th {\n",
                            "        text-align: right;\n",
                            "    }\n",
                            "</style>\n",
                            "<table border=\"1\" class=\"dataframe\">\n",
                            "  <thead>\n",
                            "    <tr style=\"text-align: right;\">\n",
                            "      <th></th>\n",
                            "      <th>Year</th>\n",
                            "      <th>promedio_por_año</th>\n",
                            "    </tr>\n",
                            "  </thead>\n",
                            "  <tbody>\n",
                            "    <tr>\n",
                            "      <th>0</th>\n",
                            "      <td>1975</td>\n",
                            "      <td>1972.1944</td>\n",
                            "    </tr>\n",
                            "    <tr>\n",
                            "      <th>1</th>\n",
                            "      <td>1985</td>\n",
                            "      <td>2050.0666</td>\n",
                            "    </tr>\n",
                            "    <tr>\n",
                            "      <th>2</th>\n",
                            "      <td>1995</td>\n",
                            "      <td>4192.0468</td>\n",
                            "    </tr>\n",
                            "    <tr>\n",
                            "      <th>3</th>\n",
                            "      <td>2005</td>\n",
                            "      <td>6712.4582</td>\n",
                            "    </tr>\n",
                            "    <tr>\n",
                            "      <th>4</th>\n",
                            "      <td>2010</td>\n",
                            "      <td>6906.7110</td>\n",
                            "    </tr>\n",
                            "    <tr>\n",
                            "      <th>5</th>\n",
                            "      <td>2015</td>\n",
                            "      <td>8621.4752</td>\n",
                            "    </tr>\n",
                            "    <tr>\n",
                            "      <th>6</th>\n",
                            "      <td>2016</td>\n",
                            "      <td>8873.2144</td>\n",
                            "    </tr>\n",
                            "    <tr>\n",
                            "      <th>7</th>\n",
                            "      <td>2017</td>\n",
                            "      <td>8711.2522</td>\n",
                            "    </tr>\n",
                            "  </tbody>\n",
                            "</table>\n",
                            "</div>"
                        ],
                        "text/plain": [
                            "   Year  promedio_por_año\n",
                            "0  1975         1972.1944\n",
                            "1  1985         2050.0666\n",
                            "2  1995         4192.0468\n",
                            "3  2005         6712.4582\n",
                            "4  2010         6906.7110\n",
                            "5  2015         8621.4752\n",
                            "6  2016         8873.2144\n",
                            "7  2017         8711.2522"
                        ]
                    },
                    "execution_count": 33,
                    "metadata": {},
                    "output_type": "execute_result"
                }
            ],
            "source": [
                "# Coloque el código que responda a la pregunta aqui exactamente lo que se pregunta\n",
                "\n",
                "df_centroamerica_per_capita = df_emisions_co2_per_capita[df_emisions_co2_per_capita['Country'].isin(paises_centroamerica)]\n",
                "\n",
                "df_promedios_anuales = df_centroamerica.groupby('Year')['Value'].mean().reset_index()\n",
                "\n",
                "df_promedios_anuales = df_promedios_anuales.rename(columns={'Value': 'promedio_por_año'})\n",
                "\n",
                "df_promedios_anuales\n"
            ]
        },
        {
            "cell_type": "markdown",
            "metadata": {
                "azdata_cell_guid": "0a62ff93-d68b-48da-b993-51cc40362107",
                "id": "944ac865"
            },
            "source": [
                "# Pregunta 14"
            ]
        },
        {
            "cell_type": "markdown",
            "metadata": {
                "azdata_cell_guid": "3f87f1b5-8bed-42ed-aba4-3b2244324e40",
                "id": "b961da55"
            },
            "source": [
                "Cuál es el promedio de las emisiones per capita para el año 2005 usando el dataframe 'df_emisions_co2_per_capita'?\n"
            ]
        },
        {
            "cell_type": "code",
            "execution_count": 19,
            "metadata": {
                "azdata_cell_guid": "fe76819d-d78b-4923-9982-967e36223207",
                "id": "e2f0a786",
                "language": "python"
            },
            "outputs": [
                {
                    "name": "stdout",
                    "output_type": "stream",
                    "text": [
                        "Promedio de emisiones per cápita en 2005 era de 5.29775 toneladas métricas\n"
                    ]
                }
            ],
            "source": [
                "# Coloque el código que responda a la pregunta aqui exactamente lo que se pregunta\n",
                "\n",
                "df_2005 = df_emisions_co2_per_capita[df_emisions_co2_per_capita['Year'] == 2005]\n",
                "\n",
                "promedio_2005 = df_2005['Value'].mean()\n",
                "\n",
                "print(f\"Promedio de emisiones per cápita en 2005 era de {promedio_2005} toneladas métricas\")\n"
            ]
        },
        {
            "cell_type": "markdown",
            "metadata": {},
            "source": [
                "# Pregunta 15\n",
                "\n",
                "Usa el dataframe  'df_emisions_co2_per_capita' con las columnas Year y promedio_por_año para crear una gráfica de líneas que muestre la evolución del promedio de emisiones per cápita en Centroamérica a lo largo del tiempo; el eje X debe ser el año y el eje Y el promedio de emisiones."
            ]
        },
        {
            "cell_type": "code",
            "execution_count": 38,
            "metadata": {},
            "outputs": [
                {
                    "data": {
                        "image/png": "[encoded data removed]",
                        "text/plain": [
                            "<Figure size 1000x600 with 1 Axes>"
                        ]
                    },
                    "metadata": {},
                    "output_type": "display_data"
                }
            ],
            "source": [
                "# Coloque el código que responda a la pregunta aqui exactamente lo que se pregunta\n",
                "\n",
                "df_promedios_anuales\n",
                "\n",
                "Años =  df_promedios_anuales['Year']\n",
                "Promedio = df_promedios_anuales['promedio_por_año']\n",
                "\n",
                "plt.figure(figsize=(10, 6))\n",
                "\n",
                "plt.plot(Años, Promedio, color='blue', marker='o', linewidth=1)\n",
                "\n",
                "plt.grid()\n",
                "\n",
                "plt.xlabel('Año', fontsize=10)\n",
                "plt.ylabel('Promedio por Año', fontsize=10)\n",
                "\n",
                "plt.tight_layout()\n",
                "plt.show()\n"
            ]
        }
    ],
    "metadata": {
        "colab": {
            "provenance": []
        },
        "kernelspec": {
            "display_name": "Python 3",
            "language": "python",
            "name": "python3"
        },
        "language_info": {
            "codemirror_mode": {
                "name": "ipython",
                "version": 3
            },
            "file_extension": ".py",
            "mimetype": "text/x-python",
            "name": "python",
            "nbconvert_exporter": "python",
            "pygments_lexer": "ipython3",
            "version": "3.13.2"
        }
    },
    "nbformat": 4,
    "nbformat_minor": 2
}
